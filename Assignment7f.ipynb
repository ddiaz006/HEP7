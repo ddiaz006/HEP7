{
 "cells": [
  {
   "cell_type": "code",
   "execution_count": null,
   "metadata": {},
   "outputs": [],
   "source": [
    "import os, sys\n",
    "import pandas as pd\n",
    "import numpy as np\n",
    "import matplotlib as mp\n",
    "import matplotlib.pyplot as plt\n",
    "import pylab as pl\n",
    "#%matplotlib inline\n",
    "\n",
    "qcd = pd.read_pickle('qcd.pkl')\n",
    "fields  = qcd.keys().tolist()\n",
    "nevents = len(qcd)\n",
    "nevents, fields\n",
    "def getParticles(qcd, evnumber, fields=['name', \n",
    "                                        'energy', 'px', 'py', 'pz', \n",
    "                                        'pt', 'y',  'phi', 'mt']):\n",
    "    p  = qcd['Particle'][evnumber]\n",
    "    \n",
    "    # compute pT\n",
    "    px = p['Particle_px']\n",
    "    py = p['Particle_py']\n",
    "    pt = np.sqrt(px**2 + py**2); p['pt'] = pt   \n",
    "    \n",
    "    # compute rapidity (y)\n",
    "    pz = p['Particle_pz']\n",
    "    # multiply by x > 1 to avoid divide by zero.\n",
    "    E  = p['Particle_energy'] * 1.00000001 \n",
    "    y  = np.log((E + pz)/(E - pz))/2; p['y']  = y\n",
    "\n",
    "    # compute phi, transverse mass\n",
    "    p['phi'] = np.arctan2(px, py)\n",
    "    p['mt']  = np.sqrt(pt**2 + p['Particle_mass']**2)\n",
    "    \n",
    "    # shorten names\n",
    "    p['name']   = p['Particle_name']\n",
    "    p['energy'] = p['Particle_energy']\n",
    "    p['px']     = p['Particle_px']\n",
    "    p['py']     = p['Particle_py']\n",
    "    p['pz']     = p['Particle_pz']\n",
    "    \n",
    "    # select final state partons with |y| < 5. Particles \n",
    "    # with |y| > 5 go down the LHC beam pipe.\n",
    "    # d1 to d2 are the ordinal values of the daughters \n",
    "    # of a decayed particle. If d1 < 0, then the particle \n",
    "    # has no daughters. Final state particles are those \n",
    "    # without daughters.\n",
    "    idx= (p['Particle_d1'] < 0) & (abs(p['y']) < 5)\n",
    "    pp = p[idx]\n",
    "    \n",
    "    return pp[fields]\n",
    "        \n",
    "P=getParticles(qcd,0)\n",
    "R=0.8\n",
    "di=1/P['pt']**2\n",
    "N=len(P)\n",
    "indices = P.index\n",
    "imin,jmin,dijmin=-1,-1,999999\n",
    "for i in range(len(P)-1):\n",
    "    Indexor=np.arange(i+1,len(P))\n",
    "    for j in Indexor:\n",
    "        DR2=(P.loc[indices[i]]['y']-P.loc[indices[j]]['y'])**2 + (P.loc[indices[i]]['phi']-P.loc[indices[j]]['phi'])**2\n",
    "        DR2def=0.8**2\n",
    "        dij=min(di.loc[indices[i]],di.loc[indices[j]])*(DR2/DR2def)\n",
    "        print dij\n",
    "        \n",
    "        if dij<dijmin:\n",
    "            dijmin=dij\n",
    "            imin=indices[i]\n",
    "            jmin=indices[j]\n",
    "\n",
    "#print dijmin,imin,jmin\n"
   ]
  },
  {
   "cell_type": "code",
   "execution_count": null,
   "metadata": {
    "collapsed": true
   },
   "outputs": [],
   "source": []
  },
  {
   "cell_type": "code",
   "execution_count": null,
   "metadata": {
    "collapsed": true
   },
   "outputs": [],
   "source": [
    "\n"
   ]
  },
  {
   "cell_type": "code",
   "execution_count": null,
   "metadata": {
    "collapsed": true
   },
   "outputs": [],
   "source": [
    "\n",
    "    \n",
    "        "
   ]
  },
  {
   "cell_type": "code",
   "execution_count": null,
   "metadata": {
    "collapsed": true
   },
   "outputs": [],
   "source": [
    "\n"
   ]
  },
  {
   "cell_type": "code",
   "execution_count": null,
   "metadata": {
    "collapsed": true
   },
   "outputs": [],
   "source": [
    "\n"
   ]
  },
  {
   "cell_type": "code",
   "execution_count": null,
   "metadata": {
    "collapsed": true
   },
   "outputs": [],
   "source": []
  }
 ],
 "metadata": {
  "kernelspec": {
   "display_name": "Python 2",
   "language": "python",
   "name": "python2"
  },
  "language_info": {
   "codemirror_mode": {
    "name": "ipython",
    "version": 2
   },
   "file_extension": ".py",
   "mimetype": "text/x-python",
   "name": "python",
   "nbconvert_exporter": "python",
   "pygments_lexer": "ipython2",
   "version": "2.7.13"
  }
 },
 "nbformat": 4,
 "nbformat_minor": 1
}
